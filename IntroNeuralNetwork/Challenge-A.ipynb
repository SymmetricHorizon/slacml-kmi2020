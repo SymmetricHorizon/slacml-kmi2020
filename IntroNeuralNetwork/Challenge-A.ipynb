{
 "cells": [
  {
   "cell_type": "markdown",
   "metadata": {},
   "source": [
    "# CNN-Challenge-A: particle image classifier\n",
    "\n",
    "This notebook is an introduction to one of workshop challenges, a particle image classification. Four type of particles (electron, photon, muon, and proton) are simulated in liquid argon medium and the 2D projections of their 3D energy deposition patterns (\"trajectories\") are recorded. The challenge is to develop a classifier algorithm that identify which of four types is present in an image."
   ]
  },
  {
   "cell_type": "code",
   "execution_count": 1,
   "metadata": {},
   "outputs": [],
   "source": [
    "import matplotlib.pyplot as plt\n",
    "import matplotlib as mpl\n",
    "%matplotlib inline\n",
    "mpl.rcParams['figure.figsize'] = [8, 6]\n",
    "mpl.rcParams['font.size'] = 16\n",
    "mpl.rcParams['axes.grid'] = True\n",
    "\n",
    "import torch\n",
    "torch.multiprocessing.set_start_method('spawn')\n",
    "device = torch.device('cuda:0' if torch.cuda.is_available() else 'cpu')\n",
    "\n",
    "import numpy as np\n",
    "SEED=12345\n",
    "_=np.random.seed(SEED)\n",
    "_=torch.manual_seed(SEED)"
   ]
  },
  {
   "cell_type": "markdown",
   "metadata": {},
   "source": [
    "## Data files\n",
    "\n",
    "* Here's the data file location: `/sdf/group/slacml-school/kmi2020/image_classification`\n",
    "* A data file with 400,000 images for training: `train.h5`\n",
    "  * ... which include 100,000 images per particle type\n",
    "* A data file with 100,000 images for testing: `test.h5`\n",
    "  * ... which include 25,000 images per particle type\n",
    "\n",
    "These files are `HDF5` files and can be opened using `h5py`. \n"
   ]
  },
  {
   "cell_type": "code",
   "execution_count": 2,
   "metadata": {},
   "outputs": [
    {
     "name": "stdout",
     "output_type": "stream",
     "text": [
      "dataset image ... type float32 ... shape (400000, 192, 192)\n",
      "dataset index ... type int32 ... shape (400000,)\n",
      "dataset mean ... type float64 ... shape (1,)\n",
      "dataset pdg ... type int32 ... shape (400000,)\n",
      "dataset std ... type float64 ... shape (1,)\n"
     ]
    }
   ],
   "source": [
    "import h5py as h5\n",
    "datapath='/sdf/group/slacml-school/kmi2020/image_classification/train.h5'\n",
    "\n",
    "# Open a file in 'r'ead mode.\n",
    "f=h5.File(datapath,mode='r',swmr=True) \n",
    "\n",
    "# List items in the file\n",
    "for key in f.keys():\n",
    "    print('dataset',key,'... type',f[key].dtype,'... shape',f[key].shape)"
   ]
  },
  {
   "cell_type": "markdown",
   "metadata": {},
   "source": [
    "... and let's visualize one image for fun!"
   ]
  },
  {
   "cell_type": "code",
   "execution_count": 3,
   "metadata": {},
   "outputs": [
    {
     "name": "stdout",
     "output_type": "stream",
     "text": [
      "PDG code 13\n"
     ]
    },
    {
     "data": {
      "image/png": "[encoded data removed]",
      "text/plain": [
       "<Figure size 576x432 with 1 Axes>"
      ]
     },
     "metadata": {
      "needs_background": "light"
     },
     "output_type": "display_data"
    }
   ],
   "source": [
    "entry = 0\n",
    "\n",
    "print('PDG code',f['pdg'][entry])\n",
    "plt.imshow(f['image'][entry],origin='lower')\n",
    "plt.show()"
   ]
  },
  {
   "cell_type": "markdown",
   "metadata": {},
   "source": [
    "PDG code 13 means muon (if you are unfamiliar, \"PDG code\" is a signed integer as a unique identifier of a particle. See [this documentation](https://pdg.lbl.gov/2006/reviews/pdf-files/montecarlo-web.pdf) for more details.)\n",
    "\n",
    "Let's don't forget to close the file :)"
   ]
  },
  {
   "cell_type": "code",
   "execution_count": 4,
   "metadata": {},
   "outputs": [],
   "source": [
    "f.close()"
   ]
  },
  {
   "cell_type": "markdown",
   "metadata": {},
   "source": [
    "## Particle Image `Dataset` and `DataLoader`\n",
    "\n",
    "We prepared a simple torch `Dataset` implementation for this dataset."
   ]
  },
  {
   "cell_type": "code",
   "execution_count": 5,
   "metadata": {},
   "outputs": [],
   "source": [
    "from cnn_challenge_a import ParticleImage2D\n",
    "train_data = ParticleImage2D(data_files=[datapath])"
   ]
  },
  {
   "cell_type": "markdown",
   "metadata": {},
   "source": [
    "The dataset is index-accessible and produce a dictionary with four keys\n",
    "* `data` ... 2D image of a particle (192x192 pixels)\n",
    "* `pdg` ... PDG code of a particle. Should be [11,13,22,2212] = [electron,muon,photon,proton]\n",
    "* `label` ... an integer label for classification\n",
    "* `index` ... an index of the data entry from an input file"
   ]
  },
  {
   "cell_type": "code",
   "execution_count": 6,
   "metadata": {},
   "outputs": [
    {
     "name": "stdout",
     "output_type": "stream",
     "text": [
      "Size of dataset 400000\n",
      "List of keys in a data element dict_keys(['data', 'label', 'pdg', 'index']) \n",
      "\n",
      "Again 0-th image! PDG code 13 ... label 1 \n",
      "\n"
     ]
    },
    {
     "data": {
      "image/png": "[encoded data removed]",
      "text/plain": [
       "<Figure size 576x432 with 1 Axes>"
      ]
     },
     "metadata": {
      "needs_background": "light"
     },
     "output_type": "display_data"
    }
   ],
   "source": [
    "print('Size of dataset',len(train_data))\n",
    "\n",
    "# Access the 0-th instance\n",
    "data = train_data[0]\n",
    "\n",
    "# The data instance is a dictionary\n",
    "print('List of keys in a data element',data.keys(),'\\n')\n",
    "\n",
    "# Visualize the image\n",
    "print('Again 0-th image! PDG code %d ... label %d \\n' % (data['pdg'],data['label']))\n",
    "plt.imshow(data['data'],origin='lower')\n",
    "plt.show()"
   ]
  },
  {
   "cell_type": "markdown",
   "metadata": {},
   "source": [
    "Create a `DataLoader` instance in a usual way except we give a specifically designed collate function to handle a dictionary style data instance."
   ]
  },
  {
   "cell_type": "code",
   "execution_count": 7,
   "metadata": {},
   "outputs": [],
   "source": [
    "train_data = ParticleImage2D(data_files = [datapath],\n",
    "                             start = 0.0, # start of the dataset fraction to use. 0.0 = use from 1st entry\n",
    "                             end   = 0.5, # end of the dataset fraction to use. 1.0 = use up the last entry\n",
    "                            )\n",
    "\n",
    "# We use a specifically designed \"collate\" function to create a batch data\n",
    "from cnn_challenge_a import collate\n",
    "from torch.utils.data import DataLoader\n",
    "train_loader = DataLoader(train_data,\n",
    "                          collate_fn  = collate,\n",
    "                          shuffle     = True,\n",
    "                          num_workers = 4,\n",
    "                          batch_size  = 64\n",
    "                         )\n"
   ]
  },
  {
   "cell_type": "markdown",
   "metadata": {},
   "source": [
    "Let's measure the speed of the dataloader"
   ]
  },
  {
   "cell_type": "code",
   "execution_count": 8,
   "metadata": {},
   "outputs": [
    {
     "name": "stdout",
     "output_type": "stream",
     "text": [
      "0.0397300910949707 [s/iteration]\n"
     ]
    }
   ],
   "source": [
    "import time\n",
    "tstart=time.time()\n",
    "num_iter=100\n",
    "ctr=num_iter\n",
    "for batch in train_loader:\n",
    "    ctr -=100\n",
    "    if ctr <= 0: break\n",
    "print((time.time()-tstart)/num_iter,'[s/iteration]')"
   ]
  },
  {
   "cell_type": "markdown",
   "metadata": {},
   "source": [
    "## Challenge\n",
    "\n",
    "Here are open-ended challenge project for an image classification.\n",
    "\n",
    "* Design a machine learning algorithm for performing image classification task. Report the performance (speed, memory, and classification accuracy) you achieved on the test set (remember, use the test set to only benchmark, don't use it for hyper parameter tuning nor training the model!). You might just train very long time, modify the network architecture, or come up with a better training strategy. Let us know what you tried and found!\n",
    "\n",
    "If you want more guidance, you could try the steps below. But stay open minded and try what you think interesting!\n",
    "\n",
    "1. Write a python script that trains your model for 70,000 steps using 90% of training sample. Store the network weights every 2500 steps. \n",
    "\n",
    "2. Use 10% of training sample as a validation set. Quantify the performance (loss and accuracy) on the stored weights (at every 2500 steps) by running the network inference on the full validation set. You can do this after training is over, or while you are training the network.\n",
    "\n",
    "3. Look for features in mistakes made by the network. When is it hard for the network to identify a particle? Can you engineer variables to guide this search (e.g. number of pixel count per image v.s. softmax score, average pixel value, etc.)?\n",
    "\n",
    "4. Play with the network architecture. For instance, if you designed a CNN, could you implement a residual connection? How does that affect the speed and performance of your network?\n",
    "\n",
    "5. Can we speed-up the network (training time and/or inference time)? What's the trade-off with its performance on the task (i.e. accuracy)? "
   ]
  }
 ],
 "metadata": {
  "kernelspec": {
   "display_name": "Python 3",
   "language": "python",
   "name": "python3"
  },
  "language_info": {
   "codemirror_mode": {
    "name": "ipython",
    "version": 3
   },
   "file_extension": ".py",
   "mimetype": "text/x-python",
   "name": "python",
   "nbconvert_exporter": "python",
   "pygments_lexer": "ipython3",
   "version": "3.6.9"
  }
 },
 "nbformat": 4,
 "nbformat_minor": 4
}
