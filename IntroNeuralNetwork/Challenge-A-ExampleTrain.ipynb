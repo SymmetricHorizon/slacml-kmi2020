{
 "cells": [
  {
   "cell_type": "markdown",
   "metadata": {},
   "source": [
    "# CNN-Challenge-A: particle image classifier\n",
    "\n",
    "# Example training\n",
    "\n",
    "This notebook shows an example of a network training. We use a CNN model called ResNet and train for 100,000 iterations."
   ]
  },
  {
   "cell_type": "code",
   "execution_count": 1,
   "metadata": {},
   "outputs": [],
   "source": [
    "import matplotlib.pyplot as plt\n",
    "import matplotlib as mpl\n",
    "%matplotlib inline\n",
    "mpl.rcParams['figure.figsize'] = [8, 6]\n",
    "mpl.rcParams['font.size'] = 16\n",
    "mpl.rcParams['axes.grid'] = True\n",
    "\n",
    "import torch\n",
    "torch.multiprocessing.set_start_method('spawn')\n",
    "device = torch.device('cuda:0' if torch.cuda.is_available() else 'cpu')\n",
    "\n",
    "import numpy as np\n",
    "SEED=12345\n",
    "_=np.random.seed(SEED)\n",
    "_=torch.manual_seed(SEED)"
   ]
  },
  {
   "cell_type": "markdown",
   "metadata": {},
   "source": [
    "## Particle Image `Dataset` and `DataLoader`\n",
    "\n",
    "We prepared a simple torch `Dataset` implementation for this dataset."
   ]
  },
  {
   "cell_type": "code",
   "execution_count": 5,
   "metadata": {},
   "outputs": [],
   "source": [
    "from cnn_challenge_a import ParticleImage2D\n",
    "datapath='/sdf/group/neutrino/kterao/data/kmi2020/image_classification/train.h5'\n",
    "train_data = ParticleImage2D(data_files=[datapath])"
   ]
  },
  {
   "cell_type": "markdown",
   "metadata": {},
   "source": [
    "The dataset is index-accessible and produce a dictionary with four keys\n",
    "* `data` ... 2D image of a particle (192x192 pixels)\n",
    "* `pdg` ... PDG code of a particle. Should be [11,13,22,2212] = [electron,muon,photon,proton]\n",
    "* `label` ... an integer label for classification\n",
    "* `index` ... an index of the data entry from an input file"
   ]
  },
  {
   "cell_type": "markdown",
   "metadata": {},
   "source": [
    "Create a `DataLoader` instance in a usual way except we give a specifically designed collate function to handle a dictionary style data instance."
   ]
  },
  {
   "cell_type": "code",
   "execution_count": 7,
   "metadata": {},
   "outputs": [],
   "source": [
    "train_data = ParticleImage2D(data_files = [datapath],\n",
    "                             start = 0.0, # start of the dataset fraction to use. 0.0 = use from 1st entry\n",
    "                             end   = 0.5, # end of the dataset fraction to use. 1.0 = use up the last entry\n",
    "                            )\n",
    "\n",
    "# We use a specifically designed \"collate\" function to create a batch data\n",
    "from cnn_challenge_a import collate\n",
    "from torch.utils.data import DataLoader\n",
    "train_loader = DataLoader(train_data,\n",
    "                          collate_fn  = collate,\n",
    "                          shuffle     = True,\n",
    "                          num_workers = 4,\n",
    "                          batch_size  = 64\n",
    "                         )\n"
   ]
  },
  {
   "cell_type": "markdown",
   "metadata": {},
   "source": [
    "Let's measure the speed of the dataloader"
   ]
  },
  {
   "cell_type": "markdown",
   "metadata": {},
   "source": [
    "## Challenge\n",
    "\n",
    "Here are open-ended challenge project for an image classification.\n",
    "\n",
    "* Design a machine learning algorithm for performing image classification task. Report the performance (speed, memory, and classification accuracy) you achieved on the test set (remember, use the test set to only benchmark, don't use it for hyper parameter tuning nor training the model!). You might just train very long time, modify the network architecture, or come up with a better training strategy. Let us know what you tried and found!\n",
    "\n",
    "If you want more guidance, you could try the steps below. But stay open minded and try what you think interesting!\n",
    "\n",
    "1. Write a python script that trains your model for 70,000 steps using 90% of training sample. Store the network weights every 2500 steps. \n",
    "\n",
    "2. Use 10% of training sample as a validation set. Quantify the performance (loss and accuracy) on the stored weights (at every 2500 steps) by running the network inference on the full validation set. You can do this after training is over, or while you are training the network.\n",
    "\n",
    "3. Look for features in mistakes made by the network. When is it hard for the network to identify a particle? Can you engineer variables to guide this search (e.g. number of pixel count per image v.s. softmax score, average pixel value, etc.)?\n",
    "\n",
    "4. Play with the network architecture. For instance, if you designed a CNN, could you implement a residual connection? How does that affect the speed and performance of your network?\n",
    "\n",
    "5. Can we speed-up the network (training time and/or inference time)? What's the trade-off with its performance on the task (i.e. accuracy)? "
   ]
  },
  {
   "cell_type": "code",
   "execution_count": 9,
   "metadata": {},
   "outputs": [],
   "source": [
    "! mkdir -p weights_a"
   ]
  },
  {
   "cell_type": "code",
   "execution_count": 10,
   "metadata": {},
   "outputs": [
    {
     "data": {
      "text/html": [
       "\n",
       "        <progress \n",
       "            value='20'\n",
       "            max='20',\n",
       "            style='width: 30%'\n",
       "        >\n",
       "            20\n",
       "        </progress> 100% Iteration: 20 elapsed 6 [sec] ... Loss: 0.72 Accuracy: 0.59\n",
       "    "
      ],
      "text/plain": [
       "<IPython.core.display.HTML object>"
      ]
     },
     "metadata": {},
     "output_type": "display_data"
    },
    {
     "data": {
      "text/html": [
       "\n",
       "        <progress \n",
       "            value='30'\n",
       "            max='30',\n",
       "            style='width: 30%'\n",
       "        >\n",
       "            30\n",
       "        </progress> 100% Iteration: 30 elapsed 4 [sec] ... Loss: 0.70 Accuracy: 0.55\n",
       "    "
      ],
      "text/plain": [
       "<IPython.core.display.HTML object>"
      ]
     },
     "metadata": {},
     "output_type": "display_data"
    },
    {
     "data": {
      "text/html": [
       "\n",
       "        <progress \n",
       "            value='40'\n",
       "            max='40',\n",
       "            style='width: 30%'\n",
       "        >\n",
       "            40\n",
       "        </progress> 100% Iteration: 40 elapsed 4 [sec] ... Loss: 0.90 Accuracy: 0.62\n",
       "    "
      ],
      "text/plain": [
       "<IPython.core.display.HTML object>"
      ]
     },
     "metadata": {},
     "output_type": "display_data"
    },
    {
     "data": {
      "text/html": [
       "\n",
       "        <progress \n",
       "            value='50'\n",
       "            max='50',\n",
       "            style='width: 30%'\n",
       "        >\n",
       "            50\n",
       "        </progress> 100% Iteration: 50 elapsed 4 [sec] ... Loss: 0.55 Accuracy: 0.80\n",
       "    "
      ],
      "text/plain": [
       "<IPython.core.display.HTML object>"
      ]
     },
     "metadata": {},
     "output_type": "display_data"
    },
    {
     "data": {
      "text/html": [
       "\n",
       "        <progress \n",
       "            value='60'\n",
       "            max='60',\n",
       "            style='width: 30%'\n",
       "        >\n",
       "            60\n",
       "        </progress> 100% Iteration: 60 elapsed 4 [sec] ... Loss: 0.60 Accuracy: 0.69\n",
       "    "
      ],
      "text/plain": [
       "<IPython.core.display.HTML object>"
      ]
     },
     "metadata": {},
     "output_type": "display_data"
    },
    {
     "data": {
      "text/html": [
       "\n",
       "        <progress \n",
       "            value='70'\n",
       "            max='70',\n",
       "            style='width: 30%'\n",
       "        >\n",
       "            70\n",
       "        </progress> 100% Iteration: 70 elapsed 4 [sec] ... Loss: 0.59 Accuracy: 0.73\n",
       "    "
      ],
      "text/plain": [
       "<IPython.core.display.HTML object>"
      ]
     },
     "metadata": {},
     "output_type": "display_data"
    },
    {
     "data": {
      "text/html": [
       "\n",
       "        <progress \n",
       "            value='80'\n",
       "            max='80',\n",
       "            style='width: 30%'\n",
       "        >\n",
       "            80\n",
       "        </progress> 100% Iteration: 80 elapsed 4 [sec] ... Loss: 0.68 Accuracy: 0.72\n",
       "    "
      ],
      "text/plain": [
       "<IPython.core.display.HTML object>"
      ]
     },
     "metadata": {},
     "output_type": "display_data"
    },
    {
     "data": {
      "text/html": [
       "\n",
       "        <progress \n",
       "            value='90'\n",
       "            max='90',\n",
       "            style='width: 30%'\n",
       "        >\n",
       "            90\n",
       "        </progress> 100% Iteration: 90 elapsed 4 [sec] ... Loss: 0.47 Accuracy: 0.80\n",
       "    "
      ],
      "text/plain": [
       "<IPython.core.display.HTML object>"
      ]
     },
     "metadata": {},
     "output_type": "display_data"
    },
    {
     "data": {
      "text/html": [
       "\n",
       "        <progress \n",
       "            value='100'\n",
       "            max='100',\n",
       "            style='width: 30%'\n",
       "        >\n",
       "            100\n",
       "        </progress> 100% Iteration: 100 elapsed 4 [sec] ... Loss: 0.41 Accuracy: 0.78\n",
       "    "
      ],
      "text/plain": [
       "<IPython.core.display.HTML object>"
      ]
     },
     "metadata": {},
     "output_type": "display_data"
    },
    {
     "data": {
      "text/html": [
       "\n",
       "        <progress \n",
       "            value='200'\n",
       "            max='200',\n",
       "            style='width: 30%'\n",
       "        >\n",
       "            200\n",
       "        </progress> 100% Iteration: 200 elapsed 18 [sec] ... Loss: 0.34 Accuracy: 0.83\n",
       "    "
      ],
      "text/plain": [
       "<IPython.core.display.HTML object>"
      ]
     },
     "metadata": {},
     "output_type": "display_data"
    },
    {
     "data": {
      "text/html": [
       "\n",
       "        <progress \n",
       "            value='300'\n",
       "            max='300',\n",
       "            style='width: 30%'\n",
       "        >\n",
       "            300\n",
       "        </progress> 100% Iteration: 300 elapsed 17 [sec] ... Loss: 0.51 Accuracy: 0.80\n",
       "    "
      ],
      "text/plain": [
       "<IPython.core.display.HTML object>"
      ]
     },
     "metadata": {},
     "output_type": "display_data"
    },
    {
     "data": {
      "text/html": [
       "\n",
       "        <progress \n",
       "            value='400'\n",
       "            max='400',\n",
       "            style='width: 30%'\n",
       "        >\n",
       "            400\n",
       "        </progress> 100% Iteration: 400 elapsed 17 [sec] ... Loss: 0.40 Accuracy: 0.83\n",
       "    "
      ],
      "text/plain": [
       "<IPython.core.display.HTML object>"
      ]
     },
     "metadata": {},
     "output_type": "display_data"
    },
    {
     "data": {
      "text/html": [
       "\n",
       "        <progress \n",
       "            value='500'\n",
       "            max='500',\n",
       "            style='width: 30%'\n",
       "        >\n",
       "            500\n",
       "        </progress> 100% Iteration: 500 elapsed 17 [sec] ... Loss: 0.31 Accuracy: 0.86\n",
       "    "
      ],
      "text/plain": [
       "<IPython.core.display.HTML object>"
      ]
     },
     "metadata": {},
     "output_type": "display_data"
    },
    {
     "data": {
      "text/html": [
       "\n",
       "        <progress \n",
       "            value='600'\n",
       "            max='600',\n",
       "            style='width: 30%'\n",
       "        >\n",
       "            600\n",
       "        </progress> 100% Iteration: 600 elapsed 17 [sec] ... Loss: 0.31 Accuracy: 0.88\n",
       "    "
      ],
      "text/plain": [
       "<IPython.core.display.HTML object>"
      ]
     },
     "metadata": {},
     "output_type": "display_data"
    },
    {
     "data": {
      "text/html": [
       "\n",
       "        <progress \n",
       "            value='700'\n",
       "            max='700',\n",
       "            style='width: 30%'\n",
       "        >\n",
       "            700\n",
       "        </progress> 100% Iteration: 700 elapsed 17 [sec] ... Loss: 0.29 Accuracy: 0.88\n",
       "    "
      ],
      "text/plain": [
       "<IPython.core.display.HTML object>"
      ]
     },
     "metadata": {},
     "output_type": "display_data"
    },
    {
     "data": {
      "text/html": [
       "\n",
       "        <progress \n",
       "            value='800'\n",
       "            max='800',\n",
       "            style='width: 30%'\n",
       "        >\n",
       "            800\n",
       "        </progress> 100% Iteration: 800 elapsed 17 [sec] ... Loss: 0.34 Accuracy: 0.84\n",
       "    "
      ],
      "text/plain": [
       "<IPython.core.display.HTML object>"
      ]
     },
     "metadata": {},
     "output_type": "display_data"
    },
    {
     "data": {
      "text/html": [
       "\n",
       "        <progress \n",
       "            value='900'\n",
       "            max='900',\n",
       "            style='width: 30%'\n",
       "        >\n",
       "            900\n",
       "        </progress> 100% Iteration: 900 elapsed 17 [sec] ... Loss: 0.20 Accuracy: 0.92\n",
       "    "
      ],
      "text/plain": [
       "<IPython.core.display.HTML object>"
      ]
     },
     "metadata": {},
     "output_type": "display_data"
    },
    {
     "data": {
      "text/html": [
       "\n",
       "        <progress \n",
       "            value='1000'\n",
       "            max='1000',\n",
       "            style='width: 30%'\n",
       "        >\n",
       "            1000\n",
       "        </progress> 100% Iteration: 1000 elapsed 17 [sec] ... Loss: 0.16 Accuracy: 0.92\n",
       "    "
      ],
      "text/plain": [
       "<IPython.core.display.HTML object>"
      ]
     },
     "metadata": {},
     "output_type": "display_data"
    },
    {
     "data": {
      "text/html": [
       "\n",
       "        <progress \n",
       "            value='2000'\n",
       "            max='2000',\n",
       "            style='width: 30%'\n",
       "        >\n",
       "            2000\n",
       "        </progress> 100% Iteration: 2000 elapsed 148 [sec] ... Loss: 0.19 Accuracy: 0.91\n",
       "    "
      ],
      "text/plain": [
       "<IPython.core.display.HTML object>"
      ]
     },
     "metadata": {},
     "output_type": "display_data"
    },
    {
     "data": {
      "text/html": [
       "\n",
       "        <progress \n",
       "            value='3000'\n",
       "            max='3000',\n",
       "            style='width: 30%'\n",
       "        >\n",
       "            3000\n",
       "        </progress> 100% Iteration: 3000 elapsed 148 [sec] ... Loss: 0.16 Accuracy: 0.91\n",
       "    "
      ],
      "text/plain": [
       "<IPython.core.display.HTML object>"
      ]
     },
     "metadata": {},
     "output_type": "display_data"
    },
    {
     "data": {
      "text/html": [
       "\n",
       "        <progress \n",
       "            value='4000'\n",
       "            max='4000',\n",
       "            style='width: 30%'\n",
       "        >\n",
       "            4000\n",
       "        </progress> 100% Iteration: 4000 elapsed 148 [sec] ... Loss: 0.09 Accuracy: 0.97\n",
       "    "
      ],
      "text/plain": [
       "<IPython.core.display.HTML object>"
      ]
     },
     "metadata": {},
     "output_type": "display_data"
    },
    {
     "data": {
      "text/html": [
       "\n",
       "        <progress \n",
       "            value='5000'\n",
       "            max='5000',\n",
       "            style='width: 30%'\n",
       "        >\n",
       "            5000\n",
       "        </progress> 100% Iteration: 5000 elapsed 148 [sec] ... Loss: 0.24 Accuracy: 0.89\n",
       "    "
      ],
      "text/plain": [
       "<IPython.core.display.HTML object>"
      ]
     },
     "metadata": {},
     "output_type": "display_data"
    },
    {
     "data": {
      "text/html": [
       "\n",
       "        <progress \n",
       "            value='6000'\n",
       "            max='6000',\n",
       "            style='width: 30%'\n",
       "        >\n",
       "            6000\n",
       "        </progress> 100% Iteration: 6000 elapsed 148 [sec] ... Loss: 0.11 Accuracy: 0.94\n",
       "    "
      ],
      "text/plain": [
       "<IPython.core.display.HTML object>"
      ]
     },
     "metadata": {},
     "output_type": "display_data"
    },
    {
     "data": {
      "text/html": [
       "\n",
       "        <progress \n",
       "            value='7000'\n",
       "            max='7000',\n",
       "            style='width: 30%'\n",
       "        >\n",
       "            7000\n",
       "        </progress> 100% Iteration: 7000 elapsed 147 [sec] ... Loss: 0.20 Accuracy: 0.91\n",
       "    "
      ],
      "text/plain": [
       "<IPython.core.display.HTML object>"
      ]
     },
     "metadata": {},
     "output_type": "display_data"
    },
    {
     "data": {
      "text/html": [
       "\n",
       "        <progress \n",
       "            value='8000'\n",
       "            max='8000',\n",
       "            style='width: 30%'\n",
       "        >\n",
       "            8000\n",
       "        </progress> 100% Iteration: 8000 elapsed 147 [sec] ... Loss: 0.10 Accuracy: 0.97\n",
       "    "
      ],
      "text/plain": [
       "<IPython.core.display.HTML object>"
      ]
     },
     "metadata": {},
     "output_type": "display_data"
    },
    {
     "data": {
      "text/html": [
       "\n",
       "        <progress \n",
       "            value='9000'\n",
       "            max='9000',\n",
       "            style='width: 30%'\n",
       "        >\n",
       "            9000\n",
       "        </progress> 100% Iteration: 9000 elapsed 148 [sec] ... Loss: 0.09 Accuracy: 0.95\n",
       "    "
      ],
      "text/plain": [
       "<IPython.core.display.HTML object>"
      ]
     },
     "metadata": {},
     "output_type": "display_data"
    },
    {
     "data": {
      "text/html": [
       "\n",
       "        <progress \n",
       "            value='10000'\n",
       "            max='10000',\n",
       "            style='width: 30%'\n",
       "        >\n",
       "            10000\n",
       "        </progress> 100% Iteration: 10000 elapsed 147 [sec] ... Loss: 0.04 Accuracy: 1.00\n",
       "    "
      ],
      "text/plain": [
       "<IPython.core.display.HTML object>"
      ]
     },
     "metadata": {},
     "output_type": "display_data"
    },
    {
     "data": {
      "text/html": [
       "\n",
       "        <progress \n",
       "            value='20000'\n",
       "            max='20000',\n",
       "            style='width: 30%'\n",
       "        >\n",
       "            20000\n",
       "        </progress> 100% Iteration: 20000 elapsed 1460 [sec] ... Loss: 0.06 Accuracy: 0.95\n",
       "    "
      ],
      "text/plain": [
       "<IPython.core.display.HTML object>"
      ]
     },
     "metadata": {},
     "output_type": "display_data"
    },
    {
     "data": {
      "text/html": [
       "\n",
       "        <progress \n",
       "            value='30000'\n",
       "            max='30000',\n",
       "            style='width: 30%'\n",
       "        >\n",
       "            30000\n",
       "        </progress> 100% Iteration: 30000 elapsed 1456 [sec] ... Loss: 0.12 Accuracy: 0.92\n",
       "    "
      ],
      "text/plain": [
       "<IPython.core.display.HTML object>"
      ]
     },
     "metadata": {},
     "output_type": "display_data"
    },
    {
     "data": {
      "text/html": [
       "\n",
       "        <progress \n",
       "            value='40000'\n",
       "            max='40000',\n",
       "            style='width: 30%'\n",
       "        >\n",
       "            40000\n",
       "        </progress> 100% Iteration: 40000 elapsed 1458 [sec] ... Loss: 0.05 Accuracy: 0.97\n",
       "    "
      ],
      "text/plain": [
       "<IPython.core.display.HTML object>"
      ]
     },
     "metadata": {},
     "output_type": "display_data"
    },
    {
     "data": {
      "text/html": [
       "\n",
       "        <progress \n",
       "            value='50000'\n",
       "            max='50000',\n",
       "            style='width: 30%'\n",
       "        >\n",
       "            50000\n",
       "        </progress> 100% Iteration: 50000 elapsed 1505 [sec] ... Loss: 0.04 Accuracy: 0.97\n",
       "    "
      ],
      "text/plain": [
       "<IPython.core.display.HTML object>"
      ]
     },
     "metadata": {},
     "output_type": "display_data"
    },
    {
     "data": {
      "text/html": [
       "\n",
       "        <progress \n",
       "            value='60000'\n",
       "            max='60000',\n",
       "            style='width: 30%'\n",
       "        >\n",
       "            60000\n",
       "        </progress> 100% Iteration: 60000 elapsed 1456 [sec] ... Loss: 0.00 Accuracy: 1.00\n",
       "    "
      ],
      "text/plain": [
       "<IPython.core.display.HTML object>"
      ]
     },
     "metadata": {},
     "output_type": "display_data"
    },
    {
     "data": {
      "text/html": [
       "\n",
       "        <progress \n",
       "            value='70000'\n",
       "            max='70000',\n",
       "            style='width: 30%'\n",
       "        >\n",
       "            70000\n",
       "        </progress> 100% Iteration: 70000 elapsed 1459 [sec] ... Loss: 0.03 Accuracy: 0.98\n",
       "    "
      ],
      "text/plain": [
       "<IPython.core.display.HTML object>"
      ]
     },
     "metadata": {},
     "output_type": "display_data"
    },
    {
     "data": {
      "text/html": [
       "\n",
       "        <progress \n",
       "            value='80000'\n",
       "            max='80000',\n",
       "            style='width: 30%'\n",
       "        >\n",
       "            80000\n",
       "        </progress> 100% Iteration: 80000 elapsed 1456 [sec] ... Loss: 0.00 Accuracy: 1.00\n",
       "    "
      ],
      "text/plain": [
       "<IPython.core.display.HTML object>"
      ]
     },
     "metadata": {},
     "output_type": "display_data"
    },
    {
     "data": {
      "text/html": [
       "\n",
       "        <progress \n",
       "            value='90000'\n",
       "            max='90000',\n",
       "            style='width: 30%'\n",
       "        >\n",
       "            90000\n",
       "        </progress> 100% Iteration: 90000 elapsed 1461 [sec] ... Loss: 0.01 Accuracy: 1.00\n",
       "    "
      ],
      "text/plain": [
       "<IPython.core.display.HTML object>"
      ]
     },
     "metadata": {},
     "output_type": "display_data"
    }
   ],
   "source": [
    "from resnet import ResNet\n",
    "\n",
    "class BLOB:\n",
    "    pass\n",
    "blob=BLOB()\n",
    "blob.device    = device # GPU or CPU\n",
    "blob.net       = ResNet(10,1,16,[2,2,2,2,2]).to(blob.device) # construct the network, set to the right device\n",
    "blob.criterion = torch.nn.CrossEntropyLoss() # use softmax loss to define an error\n",
    "blob.optimizer = torch.optim.Adam(blob.net.parameters()) # use Adam optimizer algorithm\n",
    "blob.softmax   = torch.nn.Softmax(dim=1) # not for training, but softmax score for each class\n",
    "blob.iteration = 0    # integer count for the number of train steps\n",
    "blob.data      = None # data for training/analysis\n",
    "blob.label     = None # label for training/analysis\n",
    "\n",
    "# Import train_loop, plot_loss\n",
    "from utils import train_loop, plot_loss, save_state\n",
    "blob.weight_file=save_state(blob,prefix='./weights_a/ResNet')\n",
    "# Train\n",
    "steps  = [(i+1)*10    for i in range(9)]\n",
    "steps += [(i+1)*100   for i in range(9)]\n",
    "steps += [(i+1)*1000  for i in range(9)]\n",
    "steps += [(i+1)*10000 for i in range(9)]\n",
    "\n",
    "loss,acc=[],[]\n",
    "for step in steps[1:]:\n",
    "    train_result=train_loop(blob,train_loader,num_iteration=step)\n",
    "    loss.append(train_result['loss'])\n",
    "    blob.weight_file=save_state(blob,prefix='./weights_a/ResNet')\n",
    "    np.savez('train_log_a.npz', loss=np.hstack(loss))"
   ]
  },
  {
   "cell_type": "code",
   "execution_count": 16,
   "metadata": {},
   "outputs": [
    {
     "data": {
      "image/png": "[encoded data removed]",
      "text/plain": [
       "<Figure size 576x432 with 1 Axes>"
      ]
     },
     "metadata": {
      "needs_background": "light"
     },
     "output_type": "display_data"
    }
   ],
   "source": [
    "from utils import moving_average\n",
    "\n",
    "f=np.load('train_log_a.npz')\n",
    "\n",
    "plt.plot(f['loss'],label='loss')\n",
    "plt.plot(*moving_average(f['loss'],40),label='average (40 pts)',linewidth=3)\n",
    "plt.ylim(0.01,1.)\n",
    "plt.yscale('log')\n",
    "plt.show()"
   ]
  }
 ],
 "metadata": {
  "kernelspec": {
   "display_name": "Python 3",
   "language": "python",
   "name": "python3"
  },
  "language_info": {
   "codemirror_mode": {
    "name": "ipython",
    "version": 3
   },
   "file_extension": ".py",
   "mimetype": "text/x-python",
   "name": "python",
   "nbconvert_exporter": "python",
   "pygments_lexer": "ipython3",
   "version": "3.6.9"
  }
 },
 "nbformat": 4,
 "nbformat_minor": 4
}
