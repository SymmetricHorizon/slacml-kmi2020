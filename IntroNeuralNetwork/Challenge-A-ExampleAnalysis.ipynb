{
 "cells": [
  {
   "cell_type": "markdown",
   "metadata": {},
   "source": [
    "# CNN-Challenge-A: particle image classifier\n",
    "\n",
    "# Example analysis\n",
    "\n",
    "This notebook shows an example of analyzing a network. We use the trained weights (parameters) of a CNN model called ResNet."
   ]
  },
  {
   "cell_type": "code",
   "execution_count": 1,
   "metadata": {},
   "outputs": [],
   "source": [
    "import matplotlib.pyplot as plt\n",
    "import matplotlib as mpl\n",
    "%matplotlib inline\n",
    "mpl.rcParams['figure.figsize'] = [8, 6]\n",
    "mpl.rcParams['font.size'] = 16\n",
    "mpl.rcParams['axes.grid'] = True\n",
    "\n",
    "import torch\n",
    "torch.multiprocessing.set_start_method('spawn')\n",
    "device = torch.device('cuda:0' if torch.cuda.is_available() else 'cpu')\n",
    "\n",
    "import numpy as np\n",
    "SEED=12345\n",
    "_=np.random.seed(SEED)\n",
    "_=torch.manual_seed(SEED)"
   ]
  },
  {
   "cell_type": "markdown",
   "metadata": {},
   "source": [
    "## Dataloader\n",
    "\n",
    "We will use the model trained for the first half (50%) of the train dataset. Let's try validation on the second half of the train dataset."
   ]
  },
  {
   "cell_type": "code",
   "execution_count": 2,
   "metadata": {},
   "outputs": [],
   "source": [
    "from cnn_challenge_a import ParticleImage2D\n",
    "datapath='/sdf/group/neutrino/kterao/data/kmi2020/image_classification/train.h5'\n",
    "\n",
    "val_data = ParticleImage2D(data_files = [datapath],\n",
    "                           start = 0.5, # start of the dataset fraction to use. 0.0 = use from 1st entry\n",
    "                           end   = 1.0, # end of the dataset fraction to use. 1.0 = use up the last entry\n",
    "                          )\n",
    "\n",
    "# We use a specifically designed \"collate\" function to create a batch data\n",
    "from cnn_challenge_a import collate\n",
    "from torch.utils.data import DataLoader\n",
    "val_loader = DataLoader(val_data,\n",
    "                        collate_fn  = collate,\n",
    "                        shuffle     = True,\n",
    "                        num_workers = 4,\n",
    "                        batch_size  = 64\n",
    "                       )\n"
   ]
  },
  {
   "cell_type": "markdown",
   "metadata": {},
   "source": [
    "## Analysis\n",
    "\n",
    "Let's construct a network. Below code is a copy & paste from an example"
   ]
  },
  {
   "cell_type": "code",
   "execution_count": 4,
   "metadata": {},
   "outputs": [],
   "source": [
    "from resnet import ResNet\n",
    "\n",
    "class BLOB:\n",
    "    pass\n",
    "blob=BLOB()\n",
    "blob.device    = device # GPU or CPU\n",
    "blob.net       = ResNet(10,1,16,[2,2,2,2,2]).to(blob.device) # construct the network, set to the right device\n",
    "blob.criterion = torch.nn.CrossEntropyLoss() # use softmax loss to define an error\n",
    "blob.optimizer = torch.optim.Adam(blob.net.parameters()) # use Adam optimizer algorithm\n",
    "blob.softmax   = torch.nn.Softmax(dim=1) # not for training, but softmax score for each class\n",
    "blob.iteration = 0    # integer count for the number of train steps\n",
    "blob.data      = None # data for training/analysis\n",
    "blob.label     = None # label for training/analysis\n"
   ]
  },
  {
   "cell_type": "markdown",
   "metadata": {},
   "source": [
    "Let's also list the weight files from training."
   ]
  },
  {
   "cell_type": "code",
   "execution_count": 21,
   "metadata": {},
   "outputs": [
    {
     "name": "stdout",
     "output_type": "stream",
     "text": [
      "Weights stored:\n",
      " [0, 20, 30, 40, 50, 60, 70, 80, 90, 100, 200, 300, 400, 500, 600, 700, 800, 900, 1000, 2000, 3000, 4000, 5000, 6000, 7000, 8000, 9000, 10000, 20000, 30000, 40000, 50000, 60000, 70000, 80000, 90000]\n"
     ]
    }
   ],
   "source": [
    "import glob\n",
    "weight_files = glob.glob('weights_a/ResNet-*.ckpt')\n",
    "weight_steps = [int(f.split('-')[-1].rstrip('.ckpt')) for f in weight_files]\n",
    "weight_steps.sort()\n",
    "print('Weights stored:\\n',weight_steps)"
   ]
  },
  {
   "cell_type": "markdown",
   "metadata": {},
   "source": [
    "\n",
    "\n",
    "Next, let's loop over the weight files and compute the model accuracy on the validation set."
   ]
  },
  {
   "cell_type": "code",
   "execution_count": 37,
   "metadata": {},
   "outputs": [],
   "source": [
    "# Import train_loop, plot_loss\n",
    "from utils import inference_loop, plot_loss, restore_state\n",
    "\n",
    "def loop_validation(blob,num_iterations=800):\n",
    "    \n",
    "    file_prefix = '/sdf/group/neutrino/kterao/data/kmi2020/image_classification/weights/ResNet'\n",
    "    \n",
    "    import glob, os\n",
    "    weight_files = glob.glob(file_prefix + '*')\n",
    "    weight_steps = [int(f.split('-')[-1].rstrip('.ckpt')) for f in weight_files]\n",
    "    weight_steps.sort()\n",
    "\n",
    "    accuracy_history = [[],[],[]]\n",
    "    for step in weight_steps:\n",
    "        blob.weight_file = file_prefix + '-%d.ckpt' % step\n",
    "        \n",
    "        restore_state(blob)\n",
    "\n",
    "        results = inference_loop(blob,\n",
    "                                 val_loader,\n",
    "                                 num_iterations=num_iterations)\n",
    "        \n",
    "        accuracy,labels,prediction,softmax = results\n",
    "\n",
    "        print('Processing iteration',step)\n",
    "        \n",
    "        accuracy_history[0].append(step)\n",
    "        accuracy_history[1].append(accuracy.mean())\n",
    "        accuracy_history[2].append(accuracy.std())\n",
    "            \n",
    "    return np.array(accuracy_history)"
   ]
  },
  {
   "cell_type": "markdown",
   "metadata": {},
   "source": [
    "OK let's run the validation loop and store the accuracy mean and std per step in a file."
   ]
  },
  {
   "cell_type": "code",
   "execution_count": 39,
   "metadata": {},
   "outputs": [
    {
     "name": "stdout",
     "output_type": "stream",
     "text": [
      "Processing iteration 0\n",
      "Processing iteration 20\n",
      "Processing iteration 30\n",
      "Processing iteration 40\n",
      "Processing iteration 50\n",
      "Processing iteration 60\n",
      "Processing iteration 70\n",
      "Processing iteration 80\n",
      "Processing iteration 90\n",
      "Processing iteration 100\n",
      "Processing iteration 200\n",
      "Processing iteration 300\n",
      "Processing iteration 400\n",
      "Processing iteration 500\n",
      "Processing iteration 600\n",
      "Processing iteration 700\n",
      "Processing iteration 800\n",
      "Processing iteration 900\n",
      "Processing iteration 1000\n",
      "Processing iteration 2000\n",
      "Processing iteration 3000\n",
      "Processing iteration 4000\n",
      "Processing iteration 5000\n",
      "Processing iteration 6000\n",
      "Processing iteration 7000\n",
      "Processing iteration 8000\n",
      "Processing iteration 9000\n",
      "Processing iteration 10000\n",
      "Processing iteration 20000\n",
      "Processing iteration 30000\n",
      "Processing iteration 40000\n",
      "Processing iteration 50000\n",
      "Processing iteration 60000\n",
      "Processing iteration 70000\n",
      "Processing iteration 80000\n",
      "Processing iteration 90000\n"
     ]
    }
   ],
   "source": [
    "import os\n",
    "\n",
    "# !!! This cell takes time to execute !!!\n",
    "#\n",
    "# You can find val_accuracy_a.npz under:\n",
    "#  - /sdf/group/neutrino/kterao/data/kmi2020/image_classification/weights/\n",
    "#\n",
    "# If analyzing your own weights, please run the loop.\n",
    "#\n",
    "\n",
    "if not os.path.isfile('val_accuracy_a.npz'):\n",
    "\n",
    "    results = loop_validation(blob)\n",
    "\n",
    "    np.savez('val_accuracy_a.npz',\n",
    "             iteration=results[0],\n",
    "             mean=results[1],\n",
    "             std=results[2])"
   ]
  },
  {
   "cell_type": "code",
   "execution_count": 51,
   "metadata": {},
   "outputs": [
    {
     "name": "stdout",
     "output_type": "stream",
     "text": [
      "\n",
      "Validation accuracy...\n",
      "\n",
      "Final accuracy mean 0.9566 std 0.0249\n",
      "\n",
      "Best  accuracy mean 0.9618 std 0.0245\n",
      "\n"
     ]
    },
    {
     "data": {
      "image/png": "[encoded data removed]",
      "text/plain": [
       "<Figure size 864x576 with 2 Axes>"
      ]
     },
     "metadata": {
      "needs_background": "light"
     },
     "output_type": "display_data"
    }
   ],
   "source": [
    "from utils import moving_average\n",
    "\n",
    "val=np.load('val_accuracy_a.npz')\n",
    "train=np.load('train_log_a.npz')\n",
    "\n",
    "best_step = np.argmax(val['mean'])\n",
    "print('\\nValidation accuracy...')\n",
    "print('\\nFinal accuracy mean %.4f std %.4f' % (val['mean'][-1],val['std'][-1]))\n",
    "print('\\nBest  accuracy mean %.4f std %.4f' % (val['mean'][best_step],val['std'][best_step]))\n",
    "print()\n",
    "# Plot them together\n",
    "\n",
    "fig, ax = plt.subplots(figsize=(12,8))\n",
    "ax.set_xlabel('Iterations')\n",
    "ax.set_ylabel('Loss')\n",
    "ax.set_yscale('log')\n",
    "ax.plot(*moving_average(train['loss'],50))\n",
    "\n",
    "aax = ax.twinx()\n",
    "aax.tick_params(axis='y', labelcolor='red')\n",
    "aax.set_ylabel('Validation Accuracy',color='red')\n",
    "aax.set_yscale('log')\n",
    "aax.set_ylim(0.8,1.0)\n",
    "aax.plot(val['iteration'],val['mean'],color='red',marker='o',linestyle='')\n",
    "fig.tight_layout()  # otherwise the right y-label is slightly clipped\n",
    "plt.show()\n"
   ]
  }
 ],
 "metadata": {
  "kernelspec": {
   "display_name": "Python 3",
   "language": "python",
   "name": "python3"
  },
  "language_info": {
   "codemirror_mode": {
    "name": "ipython",
    "version": 3
   },
   "file_extension": ".py",
   "mimetype": "text/x-python",
   "name": "python",
   "nbconvert_exporter": "python",
   "pygments_lexer": "ipython3",
   "version": "3.6.9"
  }
 },
 "nbformat": 4,
 "nbformat_minor": 4
}
